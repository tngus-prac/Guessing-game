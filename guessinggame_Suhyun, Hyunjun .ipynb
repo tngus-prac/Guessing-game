{
 "cells": [
  {
   "cell_type": "code",
   "execution_count": null,
   "metadata": {
    "scrolled": false
   },
   "outputs": [],
   "source": [
    "### Suhyun, Hyunjun\n",
    "# Guessing game\n",
    "\n",
    "import random\n",
    "\n",
    "# generate a random number 1 - 100\n",
    "r_num=random.randint(1,100)\n",
    "\n",
    "# players guess the number\n",
    "guess = int(input('Guess the number: '))\n",
    "counter = 0\n",
    "\n",
    "while True: # keep guessing until guessed correctly\n",
    "    # count the guesses\n",
    "    counter += 1 \n",
    "    \n",
    "    # if a player guessed correctly, break the loop.\n",
    "    if guess == r_num:\n",
    "        print(f\"Correct, it took you {counter} guesses\")\n",
    "        break\n",
    "    \n",
    "    \n",
    "    # If a player's guess is less than 1 or greater than 100,\n",
    "    # say \"OUT OF BOUNDS\"\n",
    "    if guess < 1 or guess > 100:\n",
    "        print(\"OUT OF BOUNDS\")\n",
    "        \n",
    "      \n",
    "    # On a player's first turn,\n",
    "    elif counter == 1:\n",
    "        # if their guess is within 10 of the number,\n",
    "        # say \"WARM!\"\n",
    "        if abs(guess - r_num) < 10:\n",
    "            print(\"WARM!\")\n",
    "        # further than 10 away from the number,\n",
    "        # say \"COLD!\"\n",
    "        else:\n",
    "            print(\"COLD!\")\n",
    "            \n",
    "    # On all subsequent turns.\n",
    "    # if a guess is closer to the number than the previous guess,\n",
    "    # say \"WARMER!\"\n",
    "    elif abs(guess - r_num) < abs(prev_guess - r_num):\n",
    "        print(\"WARMER!\")\n",
    "    # farther from the number than the previous guess,\n",
    "    # say \"COLDER!\"\n",
    "    else:\n",
    "        print(\"COLDER!\")\n",
    "    \n",
    "    # save the previous guess value in a variable\n",
    "    prev_guess = guess\n",
    "    \n",
    "    # get a new guess\n",
    "    guess = int((input(\"Guess again!: \")))"
   ]
  }
 ],
 "metadata": {
  "kernelspec": {
   "display_name": "Python 3",
   "language": "python",
   "name": "python3"
  },
  "language_info": {
   "codemirror_mode": {
    "name": "ipython",
    "version": 3
   },
   "file_extension": ".py",
   "mimetype": "text/x-python",
   "name": "python",
   "nbconvert_exporter": "python",
   "pygments_lexer": "ipython3",
   "version": "3.7.0"
  }
 },
 "nbformat": 4,
 "nbformat_minor": 2
}
